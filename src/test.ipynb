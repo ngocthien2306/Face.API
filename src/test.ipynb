{
 "cells": [
  {
   "cell_type": "code",
   "execution_count": 13,
   "metadata": {},
   "outputs": [
    {
     "name": "stdout",
     "output_type": "stream",
     "text": [
      "{\"async\":\"https://file01.fpt.ai/text2speech-v5/short/2023-07-18/245d67096bb67151bf302c5250593746.mp3\",\"error\":0,\"message\":\"The content will be returned after a few seconds under the async link.\",\"request_id\":\"304a7cad-2e16-4224-86bf-30a7e6f5718a\"}\n"
     ]
    }
   ],
   "source": [
    "import requests\n",
    "\n",
    "url = 'https://api.fpt.ai/hmi/tts/v5'\n",
    "\n",
    "payload = 'Rất tiếc, quá trình check-in không thành công. Vui lòng đăng ký tài khoản để tiếp tục quá trình đăng nhập. Xin hãy đến bộ phận đăng ký sinh viên hoặc liên hệ với phòng hỗ trợ sinh viên để được hướng dẫn và giúp đỡ trong việc tạo tài khoản.'\n",
    "headers = {\n",
    "    'api-key': 'X8TfG9tUg136wDJ4f3RUVAQsMqfVOhBN',\n",
    "    'speed': '',\n",
    "    'voice': 'linhsan'\n",
    "}\n",
    "\n",
    "response = requests.request('POST', url, data=payload.encode('utf-8'), headers=headers)\n",
    "\n",
    "print(response.text)"
   ]
  },
  {
   "cell_type": "code",
   "execution_count": 22,
   "metadata": {},
   "outputs": [
    {
     "name": "stdout",
     "output_type": "stream",
     "text": [
      "9C7BEF2A8B03\n"
     ]
    }
   ],
   "source": [
    "from uuid import getnode as get_mac\n",
    "mac=get_mac()\n",
    "macString=''.join((\"%012X\" % mac) [i:i+2] for i in range(0,12,2))\n",
    "print(macString )"
   ]
  },
  {
   "cell_type": "code",
   "execution_count": 4,
   "metadata": {},
   "outputs": [],
   "source": [
    "\n",
    "import pygame\n",
    "\n",
    "def play_sound(file_path):\n",
    "    pygame.mixer.init()\n",
    "    pygame.mixer.music.load(file_path)\n",
    "    pygame.mixer.music.play()\n"
   ]
  },
  {
   "cell_type": "code",
   "execution_count": 5,
   "metadata": {},
   "outputs": [],
   "source": [
    "\n",
    "wav_file = \"D:/CAPSTONE2023/Face.API/public/files/audio/checkin.wav\"\n",
    "play_sound(wav_file)"
   ]
  },
  {
   "cell_type": "code",
   "execution_count": 3,
   "metadata": {},
   "outputs": [],
   "source": []
  },
  {
   "cell_type": "code",
   "execution_count": 9,
   "metadata": {},
   "outputs": [
    {
     "data": {
      "text/plain": [
       "'2023-07-13 22:33:14'"
      ]
     },
     "execution_count": 9,
     "metadata": {},
     "output_type": "execute_result"
    }
   ],
   "source": [
    "from datetime import datetime\n",
    "\n",
    "date_string = f'{datetime.now():%Y-%m-%d %H:%M:%S%z}'\n",
    "date_string"
   ]
  },
  {
   "cell_type": "code",
   "execution_count": 1,
   "metadata": {},
   "outputs": [
    {
     "data": {
      "text/plain": [
       "'26.115.12.45'"
      ]
     },
     "execution_count": 1,
     "metadata": {},
     "output_type": "execute_result"
    }
   ],
   "source": [
    "import socket\n",
    "socket.gethostbyname(socket.gethostname())"
   ]
  },
  {
   "cell_type": "code",
   "execution_count": 1,
   "metadata": {},
   "outputs": [],
   "source": [
    "from pathlib import Path\n",
    "from PIL import Image\n",
    "database_path = 'D:/CAPSTONE2023/ML.API/public'/Path('images')\n",
    "no_user_path = database_path/'nouser'\n",
    "user_path = database_path/'users'"
   ]
  },
  {
   "cell_type": "code",
   "execution_count": 11,
   "metadata": {},
   "outputs": [],
   "source": [
    "embeddings = []\n",
    "representations = []\n",
    "names = ['Unknown']\n",
    "files = []\n",
    "for idx, main_path in enumerate([no_user_path, user_path]):\n",
    "    if idx == 1:\n",
    "        main_path = main_path\n",
    "    for path in main_path.iterdir():\n",
    "        files.append(path)\n",
    "\n"
   ]
  },
  {
   "cell_type": "code",
   "execution_count": 19,
   "metadata": {},
   "outputs": [
    {
     "data": {
      "text/plain": [
       "33"
      ]
     },
     "execution_count": 19,
     "metadata": {},
     "output_type": "execute_result"
    }
   ],
   "source": [
    "len(files)"
   ]
  },
  {
   "cell_type": "code",
   "execution_count": 16,
   "metadata": {},
   "outputs": [],
   "source": [
    "import pickle\n",
    "with open(\"data/facebank/mbf_facebank_csv.pkl\", \"rb\") as f:\n",
    "    representations = pickle.load(f)"
   ]
  },
  {
   "cell_type": "code",
   "execution_count": 17,
   "metadata": {},
   "outputs": [],
   "source": [
    "import pandas as pd\n",
    "df = pd.DataFrame(representations, columns=[\"identity\", f\"emb\", \"folder_path\"])"
   ]
  },
  {
   "cell_type": "code",
   "execution_count": 18,
   "metadata": {},
   "outputs": [
    {
     "data": {
      "text/plain": [
       "(33, 3)"
      ]
     },
     "execution_count": 18,
     "metadata": {},
     "output_type": "execute_result"
    }
   ],
   "source": [
    "df.shape"
   ]
  }
 ],
 "metadata": {
  "kernelspec": {
   "display_name": "torch-gpu",
   "language": "python",
   "name": "python3"
  },
  "language_info": {
   "codemirror_mode": {
    "name": "ipython",
    "version": 3
   },
   "file_extension": ".py",
   "mimetype": "text/x-python",
   "name": "python",
   "nbconvert_exporter": "python",
   "pygments_lexer": "ipython3",
   "version": "3.7.9"
  },
  "orig_nbformat": 4
 },
 "nbformat": 4,
 "nbformat_minor": 2
}
