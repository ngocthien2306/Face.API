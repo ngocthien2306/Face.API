{
 "cells": [
  {
   "cell_type": "code",
   "execution_count": null,
   "metadata": {
    "collapsed": true,
    "is_executing": true
   },
   "outputs": [
    {
     "ename": "",
     "evalue": "",
     "output_type": "error",
     "traceback": [
      "\u001b[1;31mFailed to start the Kernel. \n",
      "\u001b[1;31mAttributeError: module 'socket' has no attribute 'gethostname'. \n",
      "\u001b[1;31mView Jupyter <a href='command:jupyter.viewOutput'>log</a> for further details."
     ]
    }
   ],
   "source": [
    "import cv2\n",
    "from PIL import Image\n",
    "import numpy as np\n",
    "from src.config import get_config\n",
    "from src.Learner import face_learner\n",
    "from src.database.connect import connection\n",
    "from src.mtcnn import MTCNN\n",
    "from src.services.face.face_services import FaceCheckInService\n",
    "from src.utils import draw_box_name, load_facebank_csv, assign_face_bank_all, play_sound, schedule_play_audio\n",
    "import traceback\n",
    "import time\n",
    "from src.detect.src.align_trans import get_reference_facial_points\n",
    "reference = get_reference_facial_points(default_square=True)\n"
   ]
  }
 ],
 "metadata": {
  "kernelspec": {
   "display_name": "Python 3",
   "language": "python",
   "name": "python3"
  },
  "language_info": {
   "codemirror_mode": {
    "name": "ipython",
    "version": 2
   },
   "file_extension": ".py",
   "mimetype": "text/x-python",
   "name": "python",
   "nbconvert_exporter": "python",
   "pygments_lexer": "ipython2",
   "version": "3.7.9"
  }
 },
 "nbformat": 4,
 "nbformat_minor": 0
}
